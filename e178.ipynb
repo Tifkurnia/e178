{
  "metadata": {
    "kernelspec": {
      "name": "python",
      "display_name": "Python (Pyodide)",
      "language": "python"
    },
    "language_info": {
      "codemirror_mode": {
        "name": "python",
        "version": 3
      },
      "file_extension": ".py",
      "mimetype": "text/x-python",
      "name": "python",
      "nbconvert_exporter": "python",
      "pygments_lexer": "ipython3",
      "version": "3.8"
    }
  },
  "nbformat_minor": 5,
  "nbformat": 4,
  "cells": [
    {
      "id": "960c4cc3-c3d2-4b65-ae6b-7ae2dfa76797",
      "cell_type": "code",
      "source": "import pandas as pd\n\ndf = pd.read_csv(\"student_performance_large_dataset.csv\")\ndf.head()",
      "metadata": {
        "trusted": true
      },
      "outputs": [
        {
          "execution_count": 6,
          "output_type": "execute_result",
          "data": {
            "text/plain": "  Student_ID  Age  Gender  Study_Hours_per_Week Preferred_Learning_Style  \\\n0     S00001   18  Female                    48              Kinesthetic   \n1     S00002   29  Female                    30          Reading/Writing   \n2     S00003   20  Female                    47              Kinesthetic   \n3     S00004   23  Female                    13                 Auditory   \n4     S00005   19  Female                    24                 Auditory   \n\n   Online_Courses_Completed Participation_in_Discussions  \\\n0                        14                          Yes   \n1                        20                           No   \n2                        11                           No   \n3                         0                          Yes   \n4                        19                          Yes   \n\n   Assignment_Completion_Rate (%)  Exam_Score (%)  Attendance_Rate (%)  \\\n0                             100              69                   66   \n1                              71              40                   57   \n2                              60              43                   79   \n3                              63              70                   60   \n4                              59              63                   93   \n\n  Use_of_Educational_Tech Self_Reported_Stress_Level  \\\n0                     Yes                       High   \n1                     Yes                     Medium   \n2                     Yes                        Low   \n3                     Yes                        Low   \n4                     Yes                     Medium   \n\n   Time_Spent_on_Social_Media (hours/week)  Sleep_Hours_per_Night Final_Grade  \n0                                        9                      8           C  \n1                                       28                      8           D  \n2                                       13                      7           D  \n3                                       24                     10           B  \n4                                       26                      8           C  ",
            "text/html": "<div>\n<style scoped>\n    .dataframe tbody tr th:only-of-type {\n        vertical-align: middle;\n    }\n\n    .dataframe tbody tr th {\n        vertical-align: top;\n    }\n\n    .dataframe thead th {\n        text-align: right;\n    }\n</style>\n<table border=\"1\" class=\"dataframe\">\n  <thead>\n    <tr style=\"text-align: right;\">\n      <th></th>\n      <th>Student_ID</th>\n      <th>Age</th>\n      <th>Gender</th>\n      <th>Study_Hours_per_Week</th>\n      <th>Preferred_Learning_Style</th>\n      <th>Online_Courses_Completed</th>\n      <th>Participation_in_Discussions</th>\n      <th>Assignment_Completion_Rate (%)</th>\n      <th>Exam_Score (%)</th>\n      <th>Attendance_Rate (%)</th>\n      <th>Use_of_Educational_Tech</th>\n      <th>Self_Reported_Stress_Level</th>\n      <th>Time_Spent_on_Social_Media (hours/week)</th>\n      <th>Sleep_Hours_per_Night</th>\n      <th>Final_Grade</th>\n    </tr>\n  </thead>\n  <tbody>\n    <tr>\n      <th>0</th>\n      <td>S00001</td>\n      <td>18</td>\n      <td>Female</td>\n      <td>48</td>\n      <td>Kinesthetic</td>\n      <td>14</td>\n      <td>Yes</td>\n      <td>100</td>\n      <td>69</td>\n      <td>66</td>\n      <td>Yes</td>\n      <td>High</td>\n      <td>9</td>\n      <td>8</td>\n      <td>C</td>\n    </tr>\n    <tr>\n      <th>1</th>\n      <td>S00002</td>\n      <td>29</td>\n      <td>Female</td>\n      <td>30</td>\n      <td>Reading/Writing</td>\n      <td>20</td>\n      <td>No</td>\n      <td>71</td>\n      <td>40</td>\n      <td>57</td>\n      <td>Yes</td>\n      <td>Medium</td>\n      <td>28</td>\n      <td>8</td>\n      <td>D</td>\n    </tr>\n    <tr>\n      <th>2</th>\n      <td>S00003</td>\n      <td>20</td>\n      <td>Female</td>\n      <td>47</td>\n      <td>Kinesthetic</td>\n      <td>11</td>\n      <td>No</td>\n      <td>60</td>\n      <td>43</td>\n      <td>79</td>\n      <td>Yes</td>\n      <td>Low</td>\n      <td>13</td>\n      <td>7</td>\n      <td>D</td>\n    </tr>\n    <tr>\n      <th>3</th>\n      <td>S00004</td>\n      <td>23</td>\n      <td>Female</td>\n      <td>13</td>\n      <td>Auditory</td>\n      <td>0</td>\n      <td>Yes</td>\n      <td>63</td>\n      <td>70</td>\n      <td>60</td>\n      <td>Yes</td>\n      <td>Low</td>\n      <td>24</td>\n      <td>10</td>\n      <td>B</td>\n    </tr>\n    <tr>\n      <th>4</th>\n      <td>S00005</td>\n      <td>19</td>\n      <td>Female</td>\n      <td>24</td>\n      <td>Auditory</td>\n      <td>19</td>\n      <td>Yes</td>\n      <td>59</td>\n      <td>63</td>\n      <td>93</td>\n      <td>Yes</td>\n      <td>Medium</td>\n      <td>26</td>\n      <td>8</td>\n      <td>C</td>\n    </tr>\n  </tbody>\n</table>\n</div>"
          },
          "metadata": {}
        }
      ],
      "execution_count": 6
    },
    {
      "id": "ac299ce9-659b-4b26-b6e8-4043f44f0d91",
      "cell_type": "code",
      "source": "df.info()\ndf.describe(include='all')\ndf.isnull().sum()",
      "metadata": {
        "trusted": true
      },
      "outputs": [
        {
          "name": "stdout",
          "output_type": "stream",
          "text": "<class 'pandas.core.frame.DataFrame'>\nRangeIndex: 10000 entries, 0 to 9999\nData columns (total 15 columns):\n #   Column                                   Non-Null Count  Dtype \n---  ------                                   --------------  ----- \n 0   Student_ID                               10000 non-null  object\n 1   Age                                      10000 non-null  int64 \n 2   Gender                                   10000 non-null  object\n 3   Study_Hours_per_Week                     10000 non-null  int64 \n 4   Preferred_Learning_Style                 10000 non-null  object\n 5   Online_Courses_Completed                 10000 non-null  int64 \n 6   Participation_in_Discussions             10000 non-null  object\n 7   Assignment_Completion_Rate (%)           10000 non-null  int64 \n 8   Exam_Score (%)                           10000 non-null  int64 \n 9   Attendance_Rate (%)                      10000 non-null  int64 \n 10  Use_of_Educational_Tech                  10000 non-null  object\n 11  Self_Reported_Stress_Level               10000 non-null  object\n 12  Time_Spent_on_Social_Media (hours/week)  10000 non-null  int64 \n 13  Sleep_Hours_per_Night                    10000 non-null  int64 \n 14  Final_Grade                              10000 non-null  object\ndtypes: int64(8), object(7)\nmemory usage: 898.5+ KB\n"
        },
        {
          "execution_count": 7,
          "output_type": "execute_result",
          "data": {
            "text/plain": "Student_ID                                 0\nAge                                        0\nGender                                     0\nStudy_Hours_per_Week                       0\nPreferred_Learning_Style                   0\nOnline_Courses_Completed                   0\nParticipation_in_Discussions               0\nAssignment_Completion_Rate (%)             0\nExam_Score (%)                             0\nAttendance_Rate (%)                        0\nUse_of_Educational_Tech                    0\nSelf_Reported_Stress_Level                 0\nTime_Spent_on_Social_Media (hours/week)    0\nSleep_Hours_per_Night                      0\nFinal_Grade                                0\ndtype: int64"
          },
          "metadata": {}
        }
      ],
      "execution_count": 7
    },
    {
      "id": "b2fad348-7a16-4dd0-8349-6dc5fc809df3",
      "cell_type": "code",
      "source": "grade_mapping = {'A': 4, 'B': 3, 'C': 2, 'D': 1}\ndf['Final_Grade_Num'] = df['Final_Grade'].map(grade_mapping)\n\ny = df['Final_Grade_Num']\nX = df.drop(columns=['Student_ID', 'Final_Grade', 'Final_Grade_Num'])\nX = pd.get_dummies(X, drop_first=True)\n",
      "metadata": {
        "trusted": true
      },
      "outputs": [],
      "execution_count": 8
    }
  ]
}